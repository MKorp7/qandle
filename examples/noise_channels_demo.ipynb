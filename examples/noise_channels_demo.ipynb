{
 "cells": [
  {
   "cell_type": "markdown",
   "metadata": {},
   "source": [
    "# Noise channel demonstration\n",
    "This short notebook compares an ideal Bell-state circuit with a version\n",
    "that inserts Kraus noise channels. The example mirrors the regression\n",
    "tests in `tests/test_noise_channels.py` and highlights how noise layers can\n",
    "be composed with standard gates."
   ]
  },
  {
   "cell_type": "code",
   "execution_count": null,
   "metadata": {},
   "outputs": [],
   "source": [
    "import torch\n",
    "import qandle\n",
    "from qandle.noise.channels import (\n",
    "    AmplitudeDamping,\n",
    "    CorrelatedDepolarizing,\n",
    "    Depolarizing,\n",
    "    PhaseFlip,\n",
    ")\n",
    "\n",
    "bell = qandle.Circuit(\n",
    "    [\n",
    "        qandle.H(qubit=0),\n",
    "        qandle.CNOT(control=0, target=1),\n",
    "    ],\n",
    "    num_qubits=2,\n",
    ")\n",
    "\n",
    "noisy = qandle.Circuit(\n",
    "    [\n",
    "        qandle.H(qubit=0),\n",
    "        qandle.CNOT(control=0, target=1),\n",
    "        PhaseFlip(0.2, 0),\n",
    "        Depolarizing(0.1, 1),\n",
    "        AmplitudeDamping(0.15, 1),\n",
    "        CorrelatedDepolarizing(0.05, (0, 1)),\n",
    "    ],\n",
    "    num_qubits=2,\n",
    ")\n",
    "\n",
    "ideal_backend = bell(backend=\"density_matrix\")\n",
    "noisy_backend = noisy(backend=\"density_matrix\")\n",
    "rho_ideal = ideal_backend.density\n",
    "rho_noisy = noisy_backend.density\n",
    "rho_ideal, rho_noisy\n"
   ]
  },
  {
   "cell_type": "code",
   "execution_count": null,
   "metadata": {},
   "outputs": [],
   "source": [
    "ideal_probs = torch.diagonal(rho_ideal).real\n",
    "noisy_probs = torch.diagonal(rho_noisy).real\n",
    "ideal_probs, noisy_probs\n"
   ]
  }
 ],
 "metadata": {
  "kernelspec": {
   "display_name": "Python 3",
   "language": "python",
   "name": "python3"
  },
  "language_info": {
   "name": "python",
   "version": "3.12"
  }
 },
 "nbformat": 4,
 "nbformat_minor": 5
}
